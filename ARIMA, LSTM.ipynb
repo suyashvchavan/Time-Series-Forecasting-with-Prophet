{
 "cells": [
  {
   "cell_type": "code",
   "execution_count": 1,
   "metadata": {},
   "outputs": [],
   "source": [
    "import numpy as np\n",
    "import pandas as pd\n",
    "import matplotlib.pyplot as plt\n",
    "%matplotlib inline"
   ]
  },
  {
   "cell_type": "code",
   "execution_count": 2,
   "metadata": {},
   "outputs": [],
   "source": [
    "import matplotlib.pyplot as plt\n",
    "%matplotlib inline\n",
    "\n",
    "from statsmodels.graphics.tsaplots import plot_acf\n",
    "from statsmodels.graphics.tsaplots import plot_pacf\n",
    "\n",
    "from statsmodels.tsa.stattools import adfuller\n",
    "from statsmodels.tsa.seasonal import seasonal_decompose\n",
    "from statsmodels.tsa.stattools import acf, pacf\n",
    "from statsmodels.tsa.arima_model import ARIMA\n",
    "from statsmodels.tsa.arima_model import ARIMAResults\n",
    "from sklearn.metrics import mean_squared_error as MSE\n",
    "\n",
    "from  tensorflow.keras.models import Sequential\n",
    "from tensorflow.keras.layers import Dense\n",
    "from tensorflow.keras.optimizers import Adam\n",
    "import tensorflow.keras.backend as K\n",
    "from tensorflow.keras import layers\n",
    "from tensorflow.keras.initializers import Zeros\n",
    "from tensorflow.keras.callbacks import EarlyStopping\n",
    "from tensorflow.keras.models import load_model\n"
   ]
  },
  {
   "cell_type": "code",
   "execution_count": 3,
   "metadata": {},
   "outputs": [],
   "source": [
    "from  tensorflow.keras.models import Sequential\n",
    "from tensorflow.keras.layers import Dense\n",
    "from tensorflow.keras.optimizers import Adam\n",
    "import tensorflow.keras.backend as K\n",
    "from tensorflow.keras import layers\n",
    "from tensorflow.keras.initializers import Zeros"
   ]
  },
  {
   "cell_type": "markdown",
   "metadata": {},
   "source": [
    "## Loading the data"
   ]
  },
  {
   "cell_type": "code",
   "execution_count": 4,
   "metadata": {},
   "outputs": [
    {
     "data": {
      "text/html": [
       "<div>\n",
       "<style scoped>\n",
       "    .dataframe tbody tr th:only-of-type {\n",
       "        vertical-align: middle;\n",
       "    }\n",
       "\n",
       "    .dataframe tbody tr th {\n",
       "        vertical-align: top;\n",
       "    }\n",
       "\n",
       "    .dataframe thead th {\n",
       "        text-align: right;\n",
       "    }\n",
       "</style>\n",
       "<table border=\"1\" class=\"dataframe\">\n",
       "  <thead>\n",
       "    <tr style=\"text-align: right;\">\n",
       "      <th></th>\n",
       "      <th>Date</th>\n",
       "      <th>Sales</th>\n",
       "    </tr>\n",
       "  </thead>\n",
       "  <tbody>\n",
       "    <tr>\n",
       "      <th>0</th>\n",
       "      <td>2016-07-03</td>\n",
       "      <td>395</td>\n",
       "    </tr>\n",
       "    <tr>\n",
       "      <th>1</th>\n",
       "      <td>2016-07-04</td>\n",
       "      <td>765</td>\n",
       "    </tr>\n",
       "    <tr>\n",
       "      <th>2</th>\n",
       "      <td>2016-07-05</td>\n",
       "      <td>829</td>\n",
       "    </tr>\n",
       "    <tr>\n",
       "      <th>3</th>\n",
       "      <td>2016-07-06</td>\n",
       "      <td>835</td>\n",
       "    </tr>\n",
       "    <tr>\n",
       "      <th>4</th>\n",
       "      <td>2016-07-07</td>\n",
       "      <td>1108</td>\n",
       "    </tr>\n",
       "  </tbody>\n",
       "</table>\n",
       "</div>"
      ],
      "text/plain": [
       "        Date  Sales\n",
       "0 2016-07-03    395\n",
       "1 2016-07-04    765\n",
       "2 2016-07-05    829\n",
       "3 2016-07-06    835\n",
       "4 2016-07-07   1108"
      ]
     },
     "execution_count": 4,
     "metadata": {},
     "output_type": "execute_result"
    }
   ],
   "source": [
    "df = pd.read_excel('Sales.xlsx')\n",
    "df.columns = ['Date','Sales']\n",
    "df.head()"
   ]
  },
  {
   "cell_type": "markdown",
   "metadata": {},
   "source": [
    "## Data Description & Visualization"
   ]
  },
  {
   "cell_type": "code",
   "execution_count": 5,
   "metadata": {},
   "outputs": [
    {
     "data": {
      "text/html": [
       "<div>\n",
       "<style scoped>\n",
       "    .dataframe tbody tr th:only-of-type {\n",
       "        vertical-align: middle;\n",
       "    }\n",
       "\n",
       "    .dataframe tbody tr th {\n",
       "        vertical-align: top;\n",
       "    }\n",
       "\n",
       "    .dataframe thead th {\n",
       "        text-align: right;\n",
       "    }\n",
       "</style>\n",
       "<table border=\"1\" class=\"dataframe\">\n",
       "  <thead>\n",
       "    <tr style=\"text-align: right;\">\n",
       "      <th></th>\n",
       "      <th>Date</th>\n",
       "      <th>Sales</th>\n",
       "    </tr>\n",
       "  </thead>\n",
       "  <tbody>\n",
       "    <tr>\n",
       "      <th>147</th>\n",
       "      <td>2016-11-27</td>\n",
       "      <td>467</td>\n",
       "    </tr>\n",
       "    <tr>\n",
       "      <th>148</th>\n",
       "      <td>2016-11-28</td>\n",
       "      <td>520</td>\n",
       "    </tr>\n",
       "    <tr>\n",
       "      <th>149</th>\n",
       "      <td>2016-11-29</td>\n",
       "      <td>616</td>\n",
       "    </tr>\n",
       "    <tr>\n",
       "      <th>150</th>\n",
       "      <td>2016-11-30</td>\n",
       "      <td>551</td>\n",
       "    </tr>\n",
       "    <tr>\n",
       "      <th>151</th>\n",
       "      <td>2016-12-01</td>\n",
       "      <td>642</td>\n",
       "    </tr>\n",
       "    <tr>\n",
       "      <th>152</th>\n",
       "      <td>2016-12-02</td>\n",
       "      <td>296</td>\n",
       "    </tr>\n",
       "    <tr>\n",
       "      <th>153</th>\n",
       "      <td>2016-12-03</td>\n",
       "      <td>137</td>\n",
       "    </tr>\n",
       "    <tr>\n",
       "      <th>154</th>\n",
       "      <td>2016-12-04</td>\n",
       "      <td>88</td>\n",
       "    </tr>\n",
       "    <tr>\n",
       "      <th>155</th>\n",
       "      <td>2016-12-05</td>\n",
       "      <td>66</td>\n",
       "    </tr>\n",
       "    <tr>\n",
       "      <th>156</th>\n",
       "      <td>2016-12-06</td>\n",
       "      <td>5</td>\n",
       "    </tr>\n",
       "  </tbody>\n",
       "</table>\n",
       "</div>"
      ],
      "text/plain": [
       "          Date  Sales\n",
       "147 2016-11-27    467\n",
       "148 2016-11-28    520\n",
       "149 2016-11-29    616\n",
       "150 2016-11-30    551\n",
       "151 2016-12-01    642\n",
       "152 2016-12-02    296\n",
       "153 2016-12-03    137\n",
       "154 2016-12-04     88\n",
       "155 2016-12-05     66\n",
       "156 2016-12-06      5"
      ]
     },
     "execution_count": 5,
     "metadata": {},
     "output_type": "execute_result"
    }
   ],
   "source": [
    "df.tail(10)"
   ]
  },
  {
   "cell_type": "code",
   "execution_count": 6,
   "metadata": {},
   "outputs": [],
   "source": [
    "df  = df.iloc[:152,:]"
   ]
  },
  {
   "cell_type": "code",
   "execution_count": 7,
   "metadata": {},
   "outputs": [],
   "source": [
    "df =df.set_index('Date')"
   ]
  },
  {
   "cell_type": "code",
   "execution_count": 8,
   "metadata": {},
   "outputs": [
    {
     "data": {
      "text/html": [
       "<div>\n",
       "<style scoped>\n",
       "    .dataframe tbody tr th:only-of-type {\n",
       "        vertical-align: middle;\n",
       "    }\n",
       "\n",
       "    .dataframe tbody tr th {\n",
       "        vertical-align: top;\n",
       "    }\n",
       "\n",
       "    .dataframe thead th {\n",
       "        text-align: right;\n",
       "    }\n",
       "</style>\n",
       "<table border=\"1\" class=\"dataframe\">\n",
       "  <thead>\n",
       "    <tr style=\"text-align: right;\">\n",
       "      <th></th>\n",
       "      <th>Sales</th>\n",
       "    </tr>\n",
       "  </thead>\n",
       "  <tbody>\n",
       "    <tr>\n",
       "      <th>count</th>\n",
       "      <td>152.000000</td>\n",
       "    </tr>\n",
       "    <tr>\n",
       "      <th>mean</th>\n",
       "      <td>751.203947</td>\n",
       "    </tr>\n",
       "    <tr>\n",
       "      <th>std</th>\n",
       "      <td>198.582404</td>\n",
       "    </tr>\n",
       "    <tr>\n",
       "      <th>min</th>\n",
       "      <td>395.000000</td>\n",
       "    </tr>\n",
       "    <tr>\n",
       "      <th>25%</th>\n",
       "      <td>622.750000</td>\n",
       "    </tr>\n",
       "    <tr>\n",
       "      <th>50%</th>\n",
       "      <td>702.000000</td>\n",
       "    </tr>\n",
       "    <tr>\n",
       "      <th>75%</th>\n",
       "      <td>830.500000</td>\n",
       "    </tr>\n",
       "    <tr>\n",
       "      <th>max</th>\n",
       "      <td>1612.000000</td>\n",
       "    </tr>\n",
       "  </tbody>\n",
       "</table>\n",
       "</div>"
      ],
      "text/plain": [
       "             Sales\n",
       "count   152.000000\n",
       "mean    751.203947\n",
       "std     198.582404\n",
       "min     395.000000\n",
       "25%     622.750000\n",
       "50%     702.000000\n",
       "75%     830.500000\n",
       "max    1612.000000"
      ]
     },
     "execution_count": 8,
     "metadata": {},
     "output_type": "execute_result"
    }
   ],
   "source": [
    "df.describe()"
   ]
  },
  {
   "cell_type": "code",
   "execution_count": 9,
   "metadata": {},
   "outputs": [
    {
     "data": {
      "text/plain": [
       "array([[<matplotlib.axes._subplots.AxesSubplot object at 0x1c2939e978>]],\n",
       "      dtype=object)"
      ]
     },
     "execution_count": 9,
     "metadata": {},
     "output_type": "execute_result"
    },
    {
     "data": {
      "image/png": "[encoded data removed]",
      "text/plain": [
       "<Figure size 432x288 with 1 Axes>"
      ]
     },
     "metadata": {
      "needs_background": "light"
     },
     "output_type": "display_data"
    }
   ],
   "source": [
    "df.hist()"
   ]
  },
  {
   "cell_type": "code",
   "execution_count": 10,
   "metadata": {},
   "outputs": [
    {
     "data": {
      "text/plain": [
       "Text(0.5, 0, 'Date')"
      ]
     },
     "execution_count": 10,
     "metadata": {},
     "output_type": "execute_result"
    },
    {
     "data": {
      "text/plain": [
       "<Figure size 600x600 with 0 Axes>"
      ]
     },
     "metadata": {},
     "output_type": "display_data"
    },
    {
     "data": {
      "image/png": "[encoded data removed]",
      "text/plain": [
       "<Figure size 432x288 with 1 Axes>"
      ]
     },
     "metadata": {
      "needs_background": "light"
     },
     "output_type": "display_data"
    }
   ],
   "source": [
    "plt.figure(figsize = (6,6),dpi=100)\n",
    "df.plot()\n",
    "plt.ylabel('Sales')\n",
    "plt.xlabel('Date')"
   ]
  },
  {
   "cell_type": "markdown",
   "metadata": {},
   "source": [
    "##### From above histogram, Sales graph it is clear that most of the sales qualtities is between 600 and 750, with cyclic increase in sales and followed by decrease, but from above graph it can be seen that the sales remain stationary."
   ]
  },
  {
   "cell_type": "markdown",
   "metadata": {},
   "source": [
    "# Stationarity analysis"
   ]
  },
  {
   "cell_type": "markdown",
   "metadata": {},
   "source": [
    "A time series is said to be stationary if its mean, variance and autocorrelation structure are constant with respect to the time-horizon of the series. In a stationary time series, recognizing patterns in the data is not affected by trends because we start by getting rid of the trend. Therefore, it is easier to forecast a stationary time series than a non-stationary series."
   ]
  },
  {
   "cell_type": "markdown",
   "metadata": {},
   "source": [
    "## Evaluating stationarity"
   ]
  },
  {
   "cell_type": "markdown",
   "metadata": {},
   "source": [
    "We use the Augmented Dickey-Fuller (ADF) test for testing stationarity of a transformed series. ADF tests for the null hypothesis that the series has a unit root. Consequently, after performing the hypothesis test, the indicators returned by ADF that are in our favor (those which indicate stationarity) are: "
   ]
  },
  {
   "cell_type": "markdown",
   "metadata": {},
   "source": [
    "1.A high absolute value of t-statistic (preferably higher than 1% critical value), and, <br>2. Value of 'p-value' very close to zero. "
   ]
  },
  {
   "cell_type": "code",
   "execution_count": 11,
   "metadata": {},
   "outputs": [
    {
     "name": "stdout",
     "output_type": "stream",
     "text": [
      "Test Statistic                -5.910881e+00\n",
      "p-value                        2.640664e-07\n",
      "#Lags Used                     0.000000e+00\n",
      "Number of Observations Used    1.510000e+02\n",
      "Critical Value (1%)           -3.474416e+00\n",
      "Critical Value (5%)           -2.880878e+00\n",
      "Critical Value (10%)          -2.577081e+00\n",
      "dtype: float64\n"
     ]
    }
   ],
   "source": [
    "# ADF test on raw data (without transformation)\n",
    "\n",
    "df_test = adfuller(df['Sales'], autolag='AIC')\n",
    "result = pd.Series(df_test[0:4], index=['Test Statistic','p-value','#Lags Used','Number of Observations Used'])\n",
    "for key,value in df_test[4].items():\n",
    "    result['Critical Value (%s)'%key] = value\n",
    "print (result)"
   ]
  },
  {
   "cell_type": "markdown",
   "metadata": {},
   "source": [
    "#### The Series already looks stationary as it rejects null hypothesis, but I want to try first order differencing, as it is common transformation practice"
   ]
  },
  {
   "cell_type": "code",
   "execution_count": null,
   "metadata": {},
   "outputs": [],
   "source": []
  },
  {
   "cell_type": "code",
   "execution_count": 26,
   "metadata": {},
   "outputs": [],
   "source": [
    "decomposition = seasonal_decompose(df['Sales'])\n",
    "\n",
    "trend = decomposition.trend\n",
    "seasonal = decomposition.seasonal\n",
    "resid = decomposition.resid\n"
   ]
  },
  {
   "cell_type": "code",
   "execution_count": 27,
   "metadata": {},
   "outputs": [
    {
     "data": {
      "image/png": "[encoded data removed]",
      "text/plain": [
       "<Figure size 432x288 with 1 Axes>"
      ]
     },
     "metadata": {
      "needs_background": "light"
     },
     "output_type": "display_data"
    },
    {
     "data": {
      "image/png": "[encoded data removed]",
      "text/plain": [
       "<Figure size 432x288 with 1 Axes>"
      ]
     },
     "metadata": {
      "needs_background": "light"
     },
     "output_type": "display_data"
    },
    {
     "data": {
      "image/png": "[encoded data removed]",
      "text/plain": [
       "<Figure size 432x288 with 1 Axes>"
      ]
     },
     "metadata": {
      "needs_background": "light"
     },
     "output_type": "display_data"
    }
   ],
   "source": [
    "plt.plot(trend,color='red',label='Trend')\n",
    "plt.legend()\n",
    "plt.grid()\n",
    "plt.show()\n",
    "\n",
    "plt.plot(seasonal,color='Blue',label='Seasonal')\n",
    "plt.legend()\n",
    "plt.grid()\n",
    "plt.show()\n",
    "\n",
    "plt.plot(resid,color='red',label='Residual')\n",
    "plt.legend()\n",
    "plt.grid()\n",
    "plt.show()"
   ]
  },
  {
   "cell_type": "code",
   "execution_count": 31,
   "metadata": {},
   "outputs": [
    {
     "name": "stdout",
     "output_type": "stream",
     "text": [
      "Test Statistic                -8.470598e+00\n",
      "p-value                        1.481304e-13\n",
      "#Lags Used                     8.000000e+00\n",
      "Number of Observations Used    1.370000e+02\n",
      "Critical Value (1%)           -3.479007e+00\n",
      "Critical Value (5%)           -2.882878e+00\n",
      "Critical Value (10%)          -2.578149e+00\n",
      "dtype: float64\n"
     ]
    }
   ],
   "source": [
    "# Perform ADT\n",
    "resid.dropna(inplace=True)\n",
    "df_test_resid = adfuller(resid, autolag='AIC')\n",
    "result_resid = pd.Series(df_test_resid[0:4], index=['Test Statistic','p-value','#Lags Used','Number of Observations Used'])\n",
    "for key,value in df_test_resid[4].items():\n",
    "    result_resid['Critical Value (%s)'%key] = value\n",
    "print (result_resid)"
   ]
  },
  {
   "cell_type": "markdown",
   "metadata": {},
   "source": [
    "#### Residuals rejects null hypothesis"
   ]
  },
  {
   "cell_type": "code",
   "execution_count": 32,
   "metadata": {},
   "outputs": [
    {
     "data": {
      "image/png": "[encoded data removed]",
      "text/plain": [
       "<Figure size 432x288 with 1 Axes>"
      ]
     },
     "metadata": {
      "needs_background": "light"
     },
     "output_type": "display_data"
    },
    {
     "data": {
      "image/png": "[encoded data removed]",
      "text/plain": [
       "<Figure size 432x288 with 1 Axes>"
      ]
     },
     "metadata": {
      "needs_background": "light"
     },
     "output_type": "display_data"
    }
   ],
   "source": [
    "plot_acf(df['Sales'],lags=20)\n",
    "plt.show()\n",
    "\n",
    "plot_pacf(df['Sales'],lags=20)\n",
    "plt.show()"
   ]
  },
  {
   "cell_type": "markdown",
   "metadata": {},
   "source": [
    "In this case, both ACF and PACF cut-off after the first lag. There is no rigid indication of the orders p and q as required by ARIMA. The closest contenders are ARIMA(2,1,0) and ARIMA(2,0,1). We shall analyze both of these methods."
   ]
  },
  {
   "cell_type": "code",
   "execution_count": 28,
   "metadata": {},
   "outputs": [],
   "source": [
    "data1 = df['Sales'].values\n",
    "train = list(data1[0:134])\n",
    "train_ = list(data1[0:134])\n",
    "test = list(data1[134:])\n",
    "otest = list(data1[134:0])\n",
    "\n",
    "train_list = [x for x in train]\n",
    "predictions = []\n",
    "\n",
    "for t in range(len(test)):\n",
    "    model = ARIMA(np.array(train),order=(2,0,1))\n",
    "    fit = model.fit()\n",
    "    forecast = float(fit.forecast()[0])\n",
    "    predictions.append(forecast)\n",
    "    train.append(float(test[t]))"
   ]
  },
  {
   "cell_type": "code",
   "execution_count": 29,
   "metadata": {},
   "outputs": [],
   "source": [
    "model = ARIMA(np.array(train),order=(2,0,1))\n",
    "fit = model.fit()\n",
    "full_predictions=list(fit.forecast(34)[0])"
   ]
  },
  {
   "cell_type": "code",
   "execution_count": 30,
   "metadata": {},
   "outputs": [
    {
     "name": "stdout",
     "output_type": "stream",
     "text": [
      "Mean squared error: 22227.962337\n"
     ]
    },
    {
     "data": {
      "image/png": "[encoded data removed]",
      "text/plain": [
       "<Figure size 432x288 with 1 Axes>"
      ]
     },
     "metadata": {
      "needs_background": "light"
     },
     "output_type": "display_data"
    }
   ],
   "source": [
    "plt.plot(predictions[1:],'--',label='Predictions')\n",
    "plt.plot(test,label='True data')\n",
    "#plt.plot(np.exp(full_predictions),label='Full prediction')\n",
    "plt.ylabel('Sales')\n",
    "plt.xlabel('Days')\n",
    "plt.legend()\n",
    "plt.plot()\n",
    "\n",
    "print ('Mean squared error: {0:3f}'.format(MSE(test,predictions)))"
   ]
  },
  {
   "cell_type": "code",
   "execution_count": 35,
   "metadata": {},
   "outputs": [
    {
     "name": "stdout",
     "output_type": "stream",
     "text": [
      "Mean squared error: 64979.353473\n"
     ]
    },
    {
     "data": {
      "image/png": "[encoded data removed]",
      "text/plain": [
       "<Figure size 432x288 with 1 Axes>"
      ]
     },
     "metadata": {
      "needs_background": "light"
     },
     "output_type": "display_data"
    }
   ],
   "source": [
    "data1 = df['Sales'].values\n",
    "train = list(data1[0:134])\n",
    "train_ = list(data1[0:134])\n",
    "test = list(data1[134:])\n",
    "otest = list(data1[134:0])\n",
    "train_list = [x for x in train]\n",
    "predictions = []\n",
    "\n",
    "for t in range(len(test)):\n",
    "    model = ARIMA(np.array(train),order=(2,1,0))\n",
    "    fit = model.fit()\n",
    "    forecast = float(fit.forecast()[0])\n",
    "    predictions.append(forecast)\n",
    "    train.append(float(forecast))\n",
    "\n",
    "predictions = fit.forecast(len(test))[0]\n",
    "plt.plot(predictions,'--',label='Predictions')\n",
    "plt.plot(test,label='True data')\n",
    "#plt.plot(np.exp(full_predictions),label='Full prediction')\n",
    "plt.ylabel('Rupees per USD')\n",
    "plt.xlabel('Days')\n",
    "plt.legend()\n",
    "plt.plot()\n",
    "\n",
    "print ('Mean squared error: {0:3f}'.format(MSE(test,predictions)))"
   ]
  },
  {
   "cell_type": "markdown",
   "metadata": {},
   "source": [
    "### Feedforward Neural Network (FNN)\n",
    "The code itself is adopted from https://github.com/neelabhpant/Deep-Learning-in-Python/blob/master/Time%20Series%20Prediction.ipynb \n",
    "The RNN is adjusted to suit as per requirement."
   ]
  },
  {
   "cell_type": "code",
   "execution_count": 37,
   "metadata": {},
   "outputs": [],
   "source": [
    "data1 = df['Sales'].values\n",
    "train = list(data1[0:134])\n",
    "test = list(data1[134:])"
   ]
  },
  {
   "cell_type": "code",
   "execution_count": 38,
   "metadata": {},
   "outputs": [],
   "source": [
    "def gen_XY(t_list,size):\n",
    "    '''\n",
    "    Generates an autoregressive lagged array.\n",
    "    \n",
    "    Parameters\n",
    "    ----------\n",
    "    1. t_list: (list) Data to generate an autoregressive array out of.\n",
    "    2. size: (int) Number of lagged values to consider.\n",
    "    \n",
    "    Returns\n",
    "    ----------\n",
    "    1. X: (np.ndarray) Autoregressive feature array.\n",
    "    2. Y.T: (np.ndarray) Column array with values of response variable.\n",
    "    \n",
    "    '''\n",
    "    X = np.zeros([1,size])\n",
    "    Y = []\n",
    "    temp_list=[]\n",
    "    for i in range(len(t_list)-size):\n",
    "        add_list = t_list[i:i+size]\n",
    "        target = t_list[i+size]\n",
    "        X = np.append(X,np.array([add_list]),axis=0)\n",
    "        Y.append(target)\n",
    "\n",
    "    X = np.delete(X,0,axis=0)\n",
    "    Y = np.array(Y)\n",
    "\n",
    "    return X,Y.T"
   ]
  },
  {
   "cell_type": "code",
   "execution_count": 39,
   "metadata": {},
   "outputs": [],
   "source": [
    "X_train,y_train = gen_XY(train,1)\n",
    "X_test,y_test = gen_XY(test,1)"
   ]
  },
  {
   "cell_type": "code",
   "execution_count": 40,
   "metadata": {},
   "outputs": [
    {
     "data": {
      "text/plain": [
       "((133, 1), (133,))"
      ]
     },
     "execution_count": 40,
     "metadata": {},
     "output_type": "execute_result"
    }
   ],
   "source": [
    "X_train.shape,y_train.shape"
   ]
  },
  {
   "cell_type": "markdown",
   "metadata": {},
   "source": [
    "### 1 Hidden Layers with 1 neuron and relu activation function"
   ]
  },
  {
   "cell_type": "code",
   "execution_count": 41,
   "metadata": {},
   "outputs": [
    {
     "name": "stdout",
     "output_type": "stream",
     "text": [
      "WARNING:tensorflow:From /Users/suyashchavan/anaconda3/lib/python3.7/site-packages/tensorflow/python/ops/resource_variable_ops.py:435: colocate_with (from tensorflow.python.framework.ops) is deprecated and will be removed in a future version.\n",
      "Instructions for updating:\n",
      "Colocations handled automatically by placer.\n",
      "WARNING:tensorflow:From /Users/suyashchavan/anaconda3/lib/python3.7/site-packages/tensorflow/python/keras/utils/losses_utils.py:170: to_float (from tensorflow.python.ops.math_ops) is deprecated and will be removed in a future version.\n",
      "Instructions for updating:\n",
      "Use tf.cast instead.\n",
      "WARNING:tensorflow:From /Users/suyashchavan/anaconda3/lib/python3.7/site-packages/tensorflow/python/ops/math_ops.py:3066: to_int32 (from tensorflow.python.ops.math_ops) is deprecated and will be removed in a future version.\n",
      "Instructions for updating:\n",
      "Use tf.cast instead.\n",
      "Epoch 1/20\n",
      "133/133 [==============================] - 0s 1ms/sample - loss: 611717.3759\n",
      "Epoch 2/20\n",
      "133/133 [==============================] - 0s 157us/sample - loss: 611717.3769\n",
      "Epoch 3/20\n",
      "133/133 [==============================] - 0s 187us/sample - loss: 611717.3759\n",
      "Epoch 4/20\n",
      "133/133 [==============================] - 0s 172us/sample - loss: 611717.3769\n",
      "Epoch 5/20\n",
      "133/133 [==============================] - 0s 175us/sample - loss: 611717.3759\n",
      "Epoch 6/20\n",
      "133/133 [==============================] - 0s 176us/sample - loss: 611717.3759\n",
      "Epoch 7/20\n",
      "133/133 [==============================] - 0s 172us/sample - loss: 611717.3759\n",
      "Epoch 8/20\n",
      "133/133 [==============================] - 0s 175us/sample - loss: 611717.3750\n",
      "Epoch 9/20\n",
      "133/133 [==============================] - 0s 184us/sample - loss: 611717.3764\n",
      "Epoch 10/20\n",
      "133/133 [==============================] - 0s 183us/sample - loss: 611717.3755\n",
      "Epoch 11/20\n",
      "133/133 [==============================] - 0s 187us/sample - loss: 611717.3759\n",
      "Epoch 12/20\n",
      "133/133 [==============================] - 0s 176us/sample - loss: 611717.3759\n",
      "Epoch 13/20\n",
      "133/133 [==============================] - 0s 175us/sample - loss: 611717.3755\n",
      "Epoch 14/20\n",
      "133/133 [==============================] - 0s 190us/sample - loss: 611717.3759\n",
      "Epoch 15/20\n",
      "133/133 [==============================] - 0s 190us/sample - loss: 611717.3755\n",
      "Epoch 16/20\n",
      "133/133 [==============================] - 0s 166us/sample - loss: 611717.3755\n",
      "Epoch 17/20\n",
      "133/133 [==============================] - 0s 170us/sample - loss: 611717.3769\n",
      "Epoch 18/20\n",
      "133/133 [==============================] - 0s 176us/sample - loss: 611717.3769\n",
      "Epoch 19/20\n",
      "133/133 [==============================] - 0s 858us/sample - loss: 611717.3755\n",
      "Epoch 20/20\n",
      "133/133 [==============================] - 0s 156us/sample - loss: 611717.3764\n"
     ]
    },
    {
     "data": {
      "text/plain": [
       "<tensorflow.python.keras.callbacks.History at 0x1c2a52bdd8>"
      ]
     },
     "execution_count": 41,
     "metadata": {},
     "output_type": "execute_result"
    }
   ],
   "source": [
    "K.clear_session()\n",
    "model = Sequential()\n",
    "model.add(Dense(1, input_shape=(X_test.shape[1],), activation='relu', kernel_initializer='lecun_uniform'))\n",
    "model.compile(optimizer=Adam(lr=0.001), loss='mean_squared_error')\n",
    "model.fit(X_train, y_train, batch_size=8, epochs=20, verbose=1)\n"
   ]
  },
  {
   "cell_type": "code",
   "execution_count": 42,
   "metadata": {},
   "outputs": [
    {
     "data": {
      "image/png": "[encoded data removed]",
      "text/plain": [
       "<Figure size 432x288 with 1 Axes>"
      ]
     },
     "metadata": {
      "needs_background": "light"
     },
     "output_type": "display_data"
    },
    {
     "name": "stdout",
     "output_type": "stream",
     "text": [
      "MSE: 555534.176471\n"
     ]
    }
   ],
   "source": [
    "y_pred  =  model.predict(X_test)\n",
    "plt.plot(y_pred,'--',label='Model-predicted')\n",
    "plt.plot(y_test,label='Actual rate')\n",
    "plt.legend()\n",
    "plt.show()\n",
    "print('MSE: %f'%(MSE(y_test,y_pred)))"
   ]
  },
  {
   "cell_type": "markdown",
   "metadata": {},
   "source": [
    "### 2 Hidden Layers with 50 neurons each and ReLU activation function"
   ]
  },
  {
   "cell_type": "code",
   "execution_count": 43,
   "metadata": {},
   "outputs": [
    {
     "name": "stdout",
     "output_type": "stream",
     "text": [
      "Epoch 1/30\n",
      "133/133 [==============================] - 0s 2ms/sample - loss: 84143.4478\n",
      "Epoch 2/30\n",
      "133/133 [==============================] - 0s 75us/sample - loss: 30959.9243\n",
      "Epoch 3/30\n",
      "133/133 [==============================] - 0s 80us/sample - loss: 43447.9512\n",
      "Epoch 4/30\n",
      "133/133 [==============================] - 0s 75us/sample - loss: 31551.1581\n",
      "Epoch 5/30\n",
      "133/133 [==============================] - 0s 72us/sample - loss: 28816.3772\n",
      "Epoch 6/30\n",
      "133/133 [==============================] - 0s 81us/sample - loss: 29511.5405\n",
      "Epoch 7/30\n",
      "133/133 [==============================] - 0s 68us/sample - loss: 28400.2390\n",
      "Epoch 8/30\n",
      "133/133 [==============================] - 0s 77us/sample - loss: 29201.5313\n",
      "Epoch 9/30\n",
      "133/133 [==============================] - 0s 70us/sample - loss: 29083.3124\n",
      "Epoch 10/30\n",
      "133/133 [==============================] - 0s 68us/sample - loss: 28763.0419\n",
      "Epoch 11/30\n",
      "133/133 [==============================] - 0s 73us/sample - loss: 28713.6508\n",
      "Epoch 12/30\n",
      "133/133 [==============================] - 0s 68us/sample - loss: 28352.9885\n",
      "Epoch 13/30\n",
      "133/133 [==============================] - 0s 73us/sample - loss: 28725.0365\n",
      "Epoch 14/30\n",
      "133/133 [==============================] - 0s 69us/sample - loss: 28607.9019\n",
      "Epoch 15/30\n",
      "133/133 [==============================] - 0s 67us/sample - loss: 28637.0613\n",
      "Epoch 16/30\n",
      "133/133 [==============================] - 0s 72us/sample - loss: 28746.0079\n",
      "Epoch 17/30\n",
      "133/133 [==============================] - 0s 69us/sample - loss: 28438.6796\n",
      "Epoch 18/30\n",
      "133/133 [==============================] - 0s 70us/sample - loss: 28515.7452\n",
      "Epoch 19/30\n",
      "133/133 [==============================] - 0s 68us/sample - loss: 28594.9939\n",
      "Epoch 20/30\n",
      "133/133 [==============================] - 0s 80us/sample - loss: 28486.9896\n",
      "Epoch 21/30\n",
      "133/133 [==============================] - 0s 69us/sample - loss: 29922.1878\n",
      "Epoch 22/30\n",
      "133/133 [==============================] - 0s 72us/sample - loss: 29118.5197\n",
      "Epoch 23/30\n",
      "133/133 [==============================] - 0s 69us/sample - loss: 28541.8280\n",
      "Epoch 24/30\n",
      "133/133 [==============================] - 0s 72us/sample - loss: 28918.8479\n",
      "Epoch 25/30\n",
      "133/133 [==============================] - 0s 75us/sample - loss: 28671.6572\n",
      "Epoch 26/30\n",
      "133/133 [==============================] - 0s 69us/sample - loss: 28384.8016\n",
      "Epoch 27/30\n",
      "133/133 [==============================] - 0s 73us/sample - loss: 28584.1419\n",
      "Epoch 28/30\n",
      "133/133 [==============================] - 0s 74us/sample - loss: 28846.3576\n",
      "Epoch 29/30\n",
      "133/133 [==============================] - 0s 73us/sample - loss: 30291.5216\n",
      "Epoch 30/30\n",
      "133/133 [==============================] - 0s 71us/sample - loss: 29700.8881\n"
     ]
    },
    {
     "data": {
      "text/plain": [
       "<tensorflow.python.keras.callbacks.History at 0x1c29e01668>"
      ]
     },
     "execution_count": 43,
     "metadata": {},
     "output_type": "execute_result"
    }
   ],
   "source": [
    "K.clear_session()\n",
    "model = Sequential()\n",
    "model.add(Dense(50, input_shape=(X_test.shape[1],), activation='relu', kernel_initializer='lecun_uniform'))\n",
    "model.add(Dense(50, input_shape=(X_test.shape[1],), activation='relu'))\n",
    "model.add(Dense(1))\n",
    "model.compile(optimizer=Adam(lr=0.001), loss='mean_squared_error')\n",
    "model.fit(X_train, y_train, batch_size=32, epochs=30, verbose=1)"
   ]
  },
  {
   "cell_type": "code",
   "execution_count": 44,
   "metadata": {},
   "outputs": [
    {
     "data": {
      "image/png": "[encoded data removed]",
      "text/plain": [
       "<Figure size 432x288 with 1 Axes>"
      ]
     },
     "metadata": {
      "needs_background": "light"
     },
     "output_type": "display_data"
    },
    {
     "name": "stdout",
     "output_type": "stream",
     "text": [
      "MSE: 26320.697937\n"
     ]
    }
   ],
   "source": [
    "y_pred  =  model.predict(X_test)\n",
    "plt.plot(y_pred[1:],'--',label='Model-predicted')\n",
    "plt.plot(y_test,label='Actual rate')\n",
    "plt.legend()\n",
    "plt.show()\n",
    "print('MSE: %f'%(MSE(y_test, y_pred)))"
   ]
  },
  {
   "cell_type": "markdown",
   "metadata": {},
   "source": [
    "#### 4 Hidden Layers with 100 neurons each and ReLU activation function"
   ]
  },
  {
   "cell_type": "code",
   "execution_count": 45,
   "metadata": {},
   "outputs": [
    {
     "name": "stdout",
     "output_type": "stream",
     "text": [
      "Epoch 1/20\n",
      "133/133 [==============================] - 0s 3ms/sample - loss: 155901.2442\n",
      "Epoch 2/20\n",
      "133/133 [==============================] - 0s 156us/sample - loss: 45330.6523\n",
      "Epoch 3/20\n",
      "133/133 [==============================] - 0s 150us/sample - loss: 36167.1506\n",
      "Epoch 4/20\n",
      "133/133 [==============================] - 0s 149us/sample - loss: 31412.0935\n",
      "Epoch 5/20\n",
      "133/133 [==============================] - 0s 149us/sample - loss: 28591.7196\n",
      "Epoch 6/20\n",
      "133/133 [==============================] - 0s 154us/sample - loss: 30540.2758\n",
      "Epoch 7/20\n",
      "133/133 [==============================] - 0s 149us/sample - loss: 28655.8157\n",
      "Epoch 8/20\n",
      "133/133 [==============================] - 0s 152us/sample - loss: 28817.4482\n",
      "Epoch 9/20\n",
      "133/133 [==============================] - 0s 152us/sample - loss: 29219.0127\n",
      "Epoch 10/20\n",
      "133/133 [==============================] - 0s 149us/sample - loss: 29801.8933\n",
      "Epoch 11/20\n",
      "133/133 [==============================] - 0s 151us/sample - loss: 31435.9099\n",
      "Epoch 12/20\n",
      "133/133 [==============================] - 0s 147us/sample - loss: 29296.3758\n",
      "Epoch 13/20\n",
      "133/133 [==============================] - 0s 152us/sample - loss: 30201.0463\n",
      "Epoch 14/20\n",
      "133/133 [==============================] - 0s 150us/sample - loss: 29645.4779\n",
      "Epoch 15/20\n",
      "133/133 [==============================] - 0s 148us/sample - loss: 39136.6883\n",
      "Epoch 16/20\n",
      "133/133 [==============================] - 0s 152us/sample - loss: 31832.3719\n",
      "Epoch 17/20\n",
      "133/133 [==============================] - 0s 152us/sample - loss: 32608.4802\n",
      "Epoch 18/20\n",
      "133/133 [==============================] - 0s 151us/sample - loss: 33249.0352\n",
      "Epoch 19/20\n",
      "133/133 [==============================] - 0s 148us/sample - loss: 28777.0801\n",
      "Epoch 20/20\n",
      "133/133 [==============================] - 0s 150us/sample - loss: 32434.3964\n"
     ]
    },
    {
     "data": {
      "text/plain": [
       "<tensorflow.python.keras.callbacks.History at 0x1c29fc6710>"
      ]
     },
     "execution_count": 45,
     "metadata": {},
     "output_type": "execute_result"
    }
   ],
   "source": [
    "K.clear_session()\n",
    "model = Sequential()\n",
    "model.add(Dense(100, input_shape=(X_test.shape[1],), activation='relu', kernel_initializer='lecun_uniform'))\n",
    "model.add(Dense(100, input_shape=(X_test.shape[1],), activation='relu'))\n",
    "model.add(Dense(100, input_shape=(X_test.shape[1],), activation='relu'))\n",
    "model.add(Dense(100, input_shape=(X_test.shape[1],), activation='relu'))\n",
    "model.add(Dense(1))\n",
    "model.compile(optimizer=Adam(lr=0.001), loss='mean_squared_error')\n",
    "model.fit(X_train, y_train, batch_size=16, epochs=20, verbose=1)"
   ]
  },
  {
   "cell_type": "code",
   "execution_count": 46,
   "metadata": {},
   "outputs": [
    {
     "data": {
      "image/png": "[encoded data removed]",
      "text/plain": [
       "<Figure size 432x288 with 1 Axes>"
      ]
     },
     "metadata": {
      "needs_background": "light"
     },
     "output_type": "display_data"
    },
    {
     "name": "stdout",
     "output_type": "stream",
     "text": [
      "MSE: 26969.881853\n"
     ]
    }
   ],
   "source": [
    "y_pred  =  model.predict(X_test)\n",
    "plt.plot(y_pred[1:],'--',label='Model-predicted')\n",
    "plt.plot(y_test,label='Actual rate')\n",
    "plt.legend()\n",
    "plt.show()\n",
    "print('MSE: %f'%(MSE(y_test, y_pred)))\n"
   ]
  },
  {
   "cell_type": "code",
   "execution_count": 47,
   "metadata": {},
   "outputs": [],
   "source": [
    "X_tr_t = X_train.reshape(X_train.shape[0], 1, X_train.shape[1])\n",
    "X_tst_t = X_test.reshape(X_test.shape[0], 1, X_test.shape[1])"
   ]
  },
  {
   "cell_type": "code",
   "execution_count": 48,
   "metadata": {},
   "outputs": [
    {
     "data": {
      "text/plain": [
       "(133, 1, 1)"
      ]
     },
     "execution_count": 48,
     "metadata": {},
     "output_type": "execute_result"
    }
   ],
   "source": [
    "X_tr_t.shape"
   ]
  },
  {
   "cell_type": "markdown",
   "metadata": {},
   "source": [
    "### LSTM- Recurrent Neural Network (LSTM-RNN)"
   ]
  },
  {
   "cell_type": "code",
   "execution_count": 50,
   "metadata": {},
   "outputs": [
    {
     "name": "stdout",
     "output_type": "stream",
     "text": [
      "Epoch 1/200\n",
      "133/133 [==============================] - 2s 11ms/sample - loss: 40385.3585\n",
      "Epoch 2/200\n",
      "133/133 [==============================] - 0s 4ms/sample - loss: 33081.5268\n",
      "Epoch 3/200\n",
      "133/133 [==============================] - 0s 3ms/sample - loss: 32746.0337\n",
      "Epoch 4/200\n",
      "133/133 [==============================] - 0s 4ms/sample - loss: 32427.4387\n",
      "Epoch 5/200\n",
      "133/133 [==============================] - 0s 3ms/sample - loss: 32054.6647\n",
      "Epoch 6/200\n",
      "133/133 [==============================] - 0s 3ms/sample - loss: 32300.5548\n",
      "Epoch 7/200\n",
      "133/133 [==============================] - 0s 3ms/sample - loss: 31809.2598\n",
      "Epoch 8/200\n",
      "133/133 [==============================] - 0s 3ms/sample - loss: 31614.4065\n",
      "Epoch 9/200\n",
      "133/133 [==============================] - 0s 3ms/sample - loss: 31515.6177\n",
      "Epoch 10/200\n",
      "133/133 [==============================] - 0s 3ms/sample - loss: 31417.0508\n",
      "Epoch 11/200\n",
      "133/133 [==============================] - 0s 3ms/sample - loss: 31338.7808\n",
      "Epoch 12/200\n",
      "133/133 [==============================] - 0s 3ms/sample - loss: 31249.0052\n",
      "Epoch 13/200\n",
      "133/133 [==============================] - 0s 3ms/sample - loss: 31183.8101\n",
      "Epoch 14/200\n",
      "133/133 [==============================] - 0s 3ms/sample - loss: 31150.8068\n",
      "Epoch 15/200\n",
      "133/133 [==============================] - 0s 3ms/sample - loss: 31090.0477\n",
      "Epoch 16/200\n",
      "133/133 [==============================] - 0s 4ms/sample - loss: 31164.5989\n",
      "Epoch 17/200\n",
      "133/133 [==============================] - 0s 4ms/sample - loss: 31151.5441\n",
      "Epoch 18/200\n",
      "133/133 [==============================] - 0s 3ms/sample - loss: 30994.1547\n",
      "Epoch 19/200\n",
      "133/133 [==============================] - 1s 4ms/sample - loss: 30929.5603\n",
      "Epoch 20/200\n",
      "133/133 [==============================] - 1s 4ms/sample - loss: 30874.3245\n",
      "Epoch 21/200\n",
      "133/133 [==============================] - 0s 3ms/sample - loss: 30924.3764\n",
      "Epoch 22/200\n",
      "133/133 [==============================] - 1s 4ms/sample - loss: 31374.8009\n",
      "Epoch 23/200\n",
      "133/133 [==============================] - 0s 4ms/sample - loss: 31007.6909\n",
      "Epoch 24/200\n",
      "133/133 [==============================] - 1s 4ms/sample - loss: 30852.4409\n",
      "Epoch 25/200\n",
      "133/133 [==============================] - 1s 4ms/sample - loss: 30774.2001\n",
      "Epoch 26/200\n",
      "133/133 [==============================] - 0s 4ms/sample - loss: 30672.2379\n",
      "Epoch 27/200\n",
      "133/133 [==============================] - 0s 4ms/sample - loss: 30594.8455\n",
      "Epoch 28/200\n",
      "133/133 [==============================] - 1s 4ms/sample - loss: 30537.7994\n",
      "Epoch 29/200\n",
      "133/133 [==============================] - 1s 4ms/sample - loss: 30522.5378\n",
      "Epoch 30/200\n",
      "133/133 [==============================] - 1s 4ms/sample - loss: 30451.9449\n",
      "Epoch 31/200\n",
      "133/133 [==============================] - 0s 4ms/sample - loss: 30416.3727\n",
      "Epoch 32/200\n",
      "133/133 [==============================] - 0s 4ms/sample - loss: 30383.8803\n",
      "Epoch 33/200\n",
      "133/133 [==============================] - 0s 3ms/sample - loss: 30354.0707\n",
      "Epoch 34/200\n",
      "133/133 [==============================] - 0s 3ms/sample - loss: 30327.6400\n",
      "Epoch 35/200\n",
      "133/133 [==============================] - 0s 4ms/sample - loss: 30311.0394\n",
      "Epoch 36/200\n",
      "133/133 [==============================] - 0s 3ms/sample - loss: 30281.7744\n",
      "Epoch 37/200\n",
      "133/133 [==============================] - 0s 3ms/sample - loss: 30250.0278\n",
      "Epoch 38/200\n",
      "133/133 [==============================] - 0s 3ms/sample - loss: 30227.1743\n",
      "Epoch 39/200\n",
      "133/133 [==============================] - 0s 4ms/sample - loss: 30195.9180\n",
      "Epoch 40/200\n",
      "133/133 [==============================] - 0s 4ms/sample - loss: 30170.9005\n",
      "Epoch 41/200\n",
      "133/133 [==============================] - 0s 4ms/sample - loss: 30146.9463\n",
      "Epoch 42/200\n",
      "133/133 [==============================] - 0s 3ms/sample - loss: 30123.2545\n",
      "Epoch 43/200\n",
      "133/133 [==============================] - 0s 4ms/sample - loss: 30103.2986\n",
      "Epoch 44/200\n",
      "133/133 [==============================] - 1s 4ms/sample - loss: 30080.6674\n",
      "Epoch 45/200\n",
      "133/133 [==============================] - 0s 4ms/sample - loss: 30710.7991\n",
      "Epoch 46/200\n",
      "133/133 [==============================] - 0s 3ms/sample - loss: 30218.5455\n",
      "Epoch 47/200\n",
      "133/133 [==============================] - 0s 4ms/sample - loss: 30091.9262\n",
      "Epoch 48/200\n",
      "133/133 [==============================] - 0s 3ms/sample - loss: 30035.3117\n",
      "Epoch 49/200\n",
      "133/133 [==============================] - 0s 3ms/sample - loss: 29985.2421\n",
      "Epoch 50/200\n",
      "133/133 [==============================] - 0s 3ms/sample - loss: 29952.4159\n",
      "Epoch 51/200\n",
      "133/133 [==============================] - 0s 3ms/sample - loss: 29926.6610\n",
      "Epoch 52/200\n",
      "133/133 [==============================] - 0s 3ms/sample - loss: 29937.8633\n",
      "Epoch 53/200\n",
      "133/133 [==============================] - 0s 3ms/sample - loss: 29901.5940\n",
      "Epoch 54/200\n",
      "133/133 [==============================] - 0s 4ms/sample - loss: 29877.0655\n",
      "Epoch 55/200\n",
      "133/133 [==============================] - 1s 4ms/sample - loss: 29856.0208\n",
      "Epoch 56/200\n",
      "133/133 [==============================] - 0s 4ms/sample - loss: 29842.3158\n",
      "Epoch 57/200\n",
      "133/133 [==============================] - 0s 3ms/sample - loss: 29819.0376\n",
      "Epoch 58/200\n",
      "133/133 [==============================] - 0s 3ms/sample - loss: 29801.9207\n",
      "Epoch 59/200\n",
      "133/133 [==============================] - 0s 4ms/sample - loss: 29785.5805\n",
      "Epoch 60/200\n",
      "133/133 [==============================] - 0s 4ms/sample - loss: 29792.5614\n",
      "Epoch 61/200\n",
      "133/133 [==============================] - 0s 4ms/sample - loss: 29732.9096\n",
      "Epoch 62/200\n",
      "133/133 [==============================] - 1s 4ms/sample - loss: 29712.6944\n",
      "Epoch 63/200\n",
      "133/133 [==============================] - 0s 4ms/sample - loss: 29699.6326\n",
      "Epoch 64/200\n",
      "133/133 [==============================] - 1s 4ms/sample - loss: 29688.0567\n",
      "Epoch 65/200\n",
      "133/133 [==============================] - 1s 4ms/sample - loss: 29677.5167\n",
      "Epoch 66/200\n",
      "133/133 [==============================] - 1s 4ms/sample - loss: 29667.2142\n",
      "Epoch 67/200\n",
      "133/133 [==============================] - 0s 4ms/sample - loss: 29656.7963\n",
      "Epoch 68/200\n",
      "133/133 [==============================] - 1s 4ms/sample - loss: 29646.8767\n",
      "Epoch 69/200\n",
      "133/133 [==============================] - 1s 4ms/sample - loss: 29637.0907\n",
      "Epoch 70/200\n",
      "133/133 [==============================] - 1s 4ms/sample - loss: 29627.3955\n",
      "Epoch 71/200\n",
      "133/133 [==============================] - 0s 4ms/sample - loss: 29617.7463\n",
      "Epoch 72/200\n",
      "133/133 [==============================] - 1s 4ms/sample - loss: 29608.3364\n",
      "Epoch 73/200\n",
      "133/133 [==============================] - 1s 4ms/sample - loss: 29598.7541\n",
      "Epoch 74/200\n",
      "133/133 [==============================] - 1s 4ms/sample - loss: 29589.3047\n",
      "Epoch 75/200\n",
      "133/133 [==============================] - 1s 4ms/sample - loss: 29579.8637\n",
      "Epoch 76/200\n",
      "133/133 [==============================] - 0s 4ms/sample - loss: 29569.2002\n",
      "Epoch 77/200\n",
      "133/133 [==============================] - 1s 4ms/sample - loss: 29574.3504\n",
      "Epoch 78/200\n",
      "133/133 [==============================] - 1s 4ms/sample - loss: 29556.5098\n",
      "Epoch 79/200\n",
      "133/133 [==============================] - 1s 4ms/sample - loss: 29545.1554\n",
      "Epoch 80/200\n",
      "133/133 [==============================] - 0s 3ms/sample - loss: 29535.2072\n",
      "Epoch 81/200\n",
      "133/133 [==============================] - 0s 4ms/sample - loss: 29526.1505\n",
      "Epoch 82/200\n",
      "133/133 [==============================] - 0s 4ms/sample - loss: 29517.0761\n",
      "Epoch 83/200\n",
      "133/133 [==============================] - 1s 4ms/sample - loss: 29508.5532\n",
      "Epoch 84/200\n",
      "133/133 [==============================] - 0s 4ms/sample - loss: 29504.8978\n",
      "Epoch 85/200\n",
      "133/133 [==============================] - 0s 4ms/sample - loss: 29490.6191\n",
      "Epoch 86/200\n",
      "133/133 [==============================] - 1s 4ms/sample - loss: 29482.5130\n",
      "Epoch 87/200\n",
      "133/133 [==============================] - 0s 3ms/sample - loss: 29474.0073\n",
      "Epoch 88/200\n",
      "133/133 [==============================] - 0s 4ms/sample - loss: 29465.4600\n",
      "Epoch 89/200\n",
      "133/133 [==============================] - 0s 3ms/sample - loss: 29476.4371\n",
      "Epoch 90/200\n",
      "133/133 [==============================] - 0s 3ms/sample - loss: 29448.3942\n",
      "Epoch 91/200\n",
      "133/133 [==============================] - 0s 4ms/sample - loss: 29439.9622\n",
      "Epoch 92/200\n",
      "133/133 [==============================] - 1s 4ms/sample - loss: 29431.5233\n",
      "Epoch 93/200\n"
     ]
    },
    {
     "name": "stdout",
     "output_type": "stream",
     "text": [
      "133/133 [==============================] - 1s 4ms/sample - loss: 29423.0882\n",
      "Epoch 94/200\n",
      "133/133 [==============================] - 0s 4ms/sample - loss: 29654.3116\n",
      "Epoch 95/200\n",
      "133/133 [==============================] - 1s 4ms/sample - loss: 29540.1625\n",
      "Epoch 96/200\n",
      "133/133 [==============================] - 0s 4ms/sample - loss: 29489.8958\n",
      "Epoch 97/200\n",
      "133/133 [==============================] - 1s 4ms/sample - loss: 29461.2077\n",
      "Epoch 98/200\n",
      "133/133 [==============================] - 1s 4ms/sample - loss: 29440.3959\n",
      "Epoch 00098: early stopping\n"
     ]
    }
   ],
   "source": [
    "from tensorflow.keras.layers import LSTM\n",
    "K.clear_session()\n",
    "model_lstm = Sequential()\n",
    "model_lstm.add(LSTM(100, input_shape=(1, X_train.shape[1]), activation='relu', kernel_initializer='lecun_uniform', return_sequences=False))\n",
    "model_lstm.add(Dense(100,input_shape=(1, X_train.shape[1]), activation='relu'))\n",
    "model_lstm.add(Dense(100,input_shape=(1, X_train.shape[1]), activation='relu'))\n",
    "\n",
    "model_lstm.add(Dense(1))\n",
    "model_lstm.compile(loss='mean_squared_error', optimizer='adam')\n",
    "#early_stop = EarlyStopping(monitor='loss', patience=5, verbose=1)\n",
    "early_stop = EarlyStopping(monitor='loss', patience=5, verbose=1)\n",
    "history_model_lstm = model_lstm.fit(X_tr_t, y_train, epochs=200, batch_size=1, verbose=1, shuffle=False, callbacks=[early_stop])"
   ]
  },
  {
   "cell_type": "code",
   "execution_count": 52,
   "metadata": {},
   "outputs": [
    {
     "name": "stdout",
     "output_type": "stream",
     "text": [
      "The MSE on the Train set is:\t28070.524\n",
      "The MSE on the Test set is:\t26207.491\n"
     ]
    }
   ],
   "source": [
    "y_pred_test_lstm = model_lstm.predict(X_tst_t)\n",
    "y_train_pred_lstm = model_lstm.predict(X_tr_t)\n",
    "\n",
    "print(\"The MSE on the Train set is:\\t{:0.3f}\".format(MSE(y_train, y_train_pred_lstm)))\n",
    "print(\"The MSE on the Test set is:\\t{:0.3f}\".format(MSE(y_test,y_pred_test_lstm)))"
   ]
  },
  {
   "cell_type": "code",
   "execution_count": 53,
   "metadata": {},
   "outputs": [
    {
     "data": {
      "image/png": "[encoded data removed]",
      "text/plain": [
       "<Figure size 432x288 with 1 Axes>"
      ]
     },
     "metadata": {
      "needs_background": "light"
     },
     "output_type": "display_data"
    }
   ],
   "source": [
    "plt.plot(y_test, label='True')\n",
    "plt.plot(y_pred_test_lstm[1:],'--',label='LSTM')\n",
    "plt.title(\"LSTM Prediction\")\n",
    "plt.xlabel('Day')\n",
    "plt.ylabel('INR_Scaled')\n",
    "plt.legend()\n",
    "plt.show()"
   ]
  },
  {
   "cell_type": "code",
   "execution_count": 171,
   "metadata": {},
   "outputs": [],
   "source": []
  },
  {
   "cell_type": "code",
   "execution_count": null,
   "metadata": {},
   "outputs": [],
   "source": []
  },
  {
   "cell_type": "code",
   "execution_count": null,
   "metadata": {},
   "outputs": [],
   "source": []
  },
  {
   "cell_type": "code",
   "execution_count": null,
   "metadata": {},
   "outputs": [],
   "source": []
  },
  {
   "cell_type": "code",
   "execution_count": null,
   "metadata": {},
   "outputs": [],
   "source": []
  },
  {
   "cell_type": "code",
   "execution_count": null,
   "metadata": {},
   "outputs": [],
   "source": []
  },
  {
   "cell_type": "code",
   "execution_count": null,
   "metadata": {},
   "outputs": [],
   "source": []
  },
  {
   "cell_type": "code",
   "execution_count": null,
   "metadata": {},
   "outputs": [],
   "source": []
  },
  {
   "cell_type": "code",
   "execution_count": null,
   "metadata": {},
   "outputs": [],
   "source": []
  },
  {
   "cell_type": "code",
   "execution_count": null,
   "metadata": {},
   "outputs": [],
   "source": []
  },
  {
   "cell_type": "code",
   "execution_count": null,
   "metadata": {},
   "outputs": [],
   "source": []
  },
  {
   "cell_type": "code",
   "execution_count": null,
   "metadata": {},
   "outputs": [],
   "source": []
  },
  {
   "cell_type": "code",
   "execution_count": null,
   "metadata": {},
   "outputs": [],
   "source": []
  },
  {
   "cell_type": "code",
   "execution_count": 190,
   "metadata": {},
   "outputs": [
    {
     "data": {
      "text/plain": [
       "18"
      ]
     },
     "execution_count": 190,
     "metadata": {},
     "output_type": "execute_result"
    }
   ],
   "source": []
  },
  {
   "cell_type": "code",
   "execution_count": null,
   "metadata": {},
   "outputs": [],
   "source": []
  }
 ],
 "metadata": {
  "kernelspec": {
   "display_name": "Python 3",
   "language": "python",
   "name": "python3"
  },
  "language_info": {
   "codemirror_mode": {
    "name": "ipython",
    "version": 3
   },
   "file_extension": ".py",
   "mimetype": "text/x-python",
   "name": "python",
   "nbconvert_exporter": "python",
   "pygments_lexer": "ipython3",
   "version": "3.7.2"
  }
 },
 "nbformat": 4,
 "nbformat_minor": 2
}
